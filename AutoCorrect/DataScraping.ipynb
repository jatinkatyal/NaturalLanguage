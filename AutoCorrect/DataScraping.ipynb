{
 "cells": [
  {
   "cell_type": "code",
   "execution_count": 1,
   "id": "7d90b698-7cef-4103-a5af-cafbb4992794",
   "metadata": {},
   "outputs": [],
   "source": [
    "# Aim: Scrape data from Wikipedia to create a text corpus\n",
    "# Process:\n",
    "# Result:"
   ]
  },
  {
   "cell_type": "code",
   "execution_count": 2,
   "id": "f992580c-8e92-43d7-ae28-9818ef7a49b8",
   "metadata": {},
   "outputs": [],
   "source": [
    "import requests\n",
    "from bs4 import BeautifulSoup"
   ]
  },
  {
   "cell_type": "code",
   "execution_count": 3,
   "id": "3d4d15fd-4bec-47e3-957e-d5ac8e5cc704",
   "metadata": {},
   "outputs": [],
   "source": [
    "class WikiCategoryDataScrapper:\n",
    "    def __init__(self, url):\n",
    "        self.categoryURL = url\n",
    "        self.categoryPageSoup = self.soup(self.request(self.categoryURL))\n",
    "        self.index = self.letterIndices()\n",
    "    \n",
    "    def request(self,url):\n",
    "        response = requests.get(url)\n",
    "        return response\n",
    "\n",
    "    def soup(self, response):\n",
    "        soup = BeautifulSoup(response.content, 'html.parser')\n",
    "        return soup\n",
    "    \n",
    "    def letterIndices(self):\n",
    "        index = {}\n",
    "        soups = self.categoryPageSoup.body.find(id='mw-pages').find(class_='CategoryIndex').find_all('li')[2:]\n",
    "        for soup in soups:\n",
    "            index[soup.text] = soup.a['href']\n",
    "        return index"
   ]
  },
  {
   "cell_type": "code",
   "execution_count": 4,
   "id": "f792ca4c-ad56-4734-95b2-2c4a30da131d",
   "metadata": {},
   "outputs": [],
   "source": [
    "url = 'https://fr.wikipedia.org/w/index.php?title=Cat%C3%A9gorie:Portail:Robotique/Articles_li%C3%A9s&pageuntil=Essaim+de+drones#mw-pages'\n",
    "scrapper = WikiCategoryDataScrapper(url)"
   ]
  },
  {
   "cell_type": "code",
   "execution_count": 5,
   "id": "d0022560-16b9-4130-920c-8fc98d99c6e9",
   "metadata": {},
   "outputs": [
    {
     "data": {
      "text/plain": [
       "{'A': 'https://fr.wikipedia.org/w/index.php?title=Cat%C3%A9gorie:Portail:Robotique/Articles_li%C3%A9s&from=A',\n",
       " 'B': 'https://fr.wikipedia.org/w/index.php?title=Cat%C3%A9gorie:Portail:Robotique/Articles_li%C3%A9s&from=B',\n",
       " 'C': 'https://fr.wikipedia.org/w/index.php?title=Cat%C3%A9gorie:Portail:Robotique/Articles_li%C3%A9s&from=C',\n",
       " 'D': 'https://fr.wikipedia.org/w/index.php?title=Cat%C3%A9gorie:Portail:Robotique/Articles_li%C3%A9s&from=D',\n",
       " 'E': 'https://fr.wikipedia.org/w/index.php?title=Cat%C3%A9gorie:Portail:Robotique/Articles_li%C3%A9s&from=E',\n",
       " 'F': 'https://fr.wikipedia.org/w/index.php?title=Cat%C3%A9gorie:Portail:Robotique/Articles_li%C3%A9s&from=F',\n",
       " 'G': 'https://fr.wikipedia.org/w/index.php?title=Cat%C3%A9gorie:Portail:Robotique/Articles_li%C3%A9s&from=G',\n",
       " 'H': 'https://fr.wikipedia.org/w/index.php?title=Cat%C3%A9gorie:Portail:Robotique/Articles_li%C3%A9s&from=H',\n",
       " 'I': 'https://fr.wikipedia.org/w/index.php?title=Cat%C3%A9gorie:Portail:Robotique/Articles_li%C3%A9s&from=I',\n",
       " 'J': 'https://fr.wikipedia.org/w/index.php?title=Cat%C3%A9gorie:Portail:Robotique/Articles_li%C3%A9s&from=J',\n",
       " 'K': 'https://fr.wikipedia.org/w/index.php?title=Cat%C3%A9gorie:Portail:Robotique/Articles_li%C3%A9s&from=K',\n",
       " 'L': 'https://fr.wikipedia.org/w/index.php?title=Cat%C3%A9gorie:Portail:Robotique/Articles_li%C3%A9s&from=L',\n",
       " 'M': 'https://fr.wikipedia.org/w/index.php?title=Cat%C3%A9gorie:Portail:Robotique/Articles_li%C3%A9s&from=M',\n",
       " 'N': 'https://fr.wikipedia.org/w/index.php?title=Cat%C3%A9gorie:Portail:Robotique/Articles_li%C3%A9s&from=N',\n",
       " 'O': 'https://fr.wikipedia.org/w/index.php?title=Cat%C3%A9gorie:Portail:Robotique/Articles_li%C3%A9s&from=O',\n",
       " 'P': 'https://fr.wikipedia.org/w/index.php?title=Cat%C3%A9gorie:Portail:Robotique/Articles_li%C3%A9s&from=P',\n",
       " 'Q': 'https://fr.wikipedia.org/w/index.php?title=Cat%C3%A9gorie:Portail:Robotique/Articles_li%C3%A9s&from=Q',\n",
       " 'R': 'https://fr.wikipedia.org/w/index.php?title=Cat%C3%A9gorie:Portail:Robotique/Articles_li%C3%A9s&from=R',\n",
       " 'S': 'https://fr.wikipedia.org/w/index.php?title=Cat%C3%A9gorie:Portail:Robotique/Articles_li%C3%A9s&from=S',\n",
       " 'T': 'https://fr.wikipedia.org/w/index.php?title=Cat%C3%A9gorie:Portail:Robotique/Articles_li%C3%A9s&from=T',\n",
       " 'U': 'https://fr.wikipedia.org/w/index.php?title=Cat%C3%A9gorie:Portail:Robotique/Articles_li%C3%A9s&from=U',\n",
       " 'V': 'https://fr.wikipedia.org/w/index.php?title=Cat%C3%A9gorie:Portail:Robotique/Articles_li%C3%A9s&from=V',\n",
       " 'W': 'https://fr.wikipedia.org/w/index.php?title=Cat%C3%A9gorie:Portail:Robotique/Articles_li%C3%A9s&from=W',\n",
       " 'X': 'https://fr.wikipedia.org/w/index.php?title=Cat%C3%A9gorie:Portail:Robotique/Articles_li%C3%A9s&from=X',\n",
       " 'Y': 'https://fr.wikipedia.org/w/index.php?title=Cat%C3%A9gorie:Portail:Robotique/Articles_li%C3%A9s&from=Y',\n",
       " 'Z': 'https://fr.wikipedia.org/w/index.php?title=Cat%C3%A9gorie:Portail:Robotique/Articles_li%C3%A9s&from=Z'}"
      ]
     },
     "execution_count": 5,
     "metadata": {},
     "output_type": "execute_result"
    }
   ],
   "source": [
    "scrapper.index"
   ]
  }
 ],
 "metadata": {
  "kernelspec": {
   "display_name": "Python 3 (ipykernel)",
   "language": "python",
   "name": "python3"
  },
  "language_info": {
   "codemirror_mode": {
    "name": "ipython",
    "version": 3
   },
   "file_extension": ".py",
   "mimetype": "text/x-python",
   "name": "python",
   "nbconvert_exporter": "python",
   "pygments_lexer": "ipython3",
   "version": "3.8.17"
  }
 },
 "nbformat": 4,
 "nbformat_minor": 5
}
