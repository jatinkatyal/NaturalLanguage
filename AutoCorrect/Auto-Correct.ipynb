{
 "cells": [
  {
   "cell_type": "code",
   "execution_count": 30,
   "id": "0e1662d6-5ee2-4040-9229-19315cdcfe77",
   "metadata": {},
   "outputs": [],
   "source": [
    "import os\n",
    "import json\n",
    "from tqdm import tqdm"
   ]
  },
  {
   "cell_type": "code",
   "execution_count": 31,
   "id": "0736fe73-08bb-4aa4-aff0-c81194dbada4",
   "metadata": {},
   "outputs": [],
   "source": [
    "DATA_PATH = '.\\Data'"
   ]
  },
  {
   "cell_type": "code",
   "execution_count": 32,
   "id": "ed7e7e19-c611-48cc-a222-9c7a285e7fa3",
   "metadata": {},
   "outputs": [
    {
     "name": "stdout",
     "output_type": "stream",
     "text": [
      "reading articles...\n"
     ]
    },
    {
     "name": "stderr",
     "output_type": "stream",
     "text": [
      "100%|██████████████████████████████████████████████████████████████████████████████| 740/740 [00:00<00:00, 4390.21it/s]IOPub data rate exceeded.\n",
      "The Jupyter server will temporarily stop sending output\n",
      "to the client in order to avoid crashing it.\n",
      "To change this limit, set the config variable\n",
      "`--ServerApp.iopub_data_rate_limit`.\n",
      "\n",
      "Current values:\n",
      "ServerApp.iopub_data_rate_limit=1000000.0 (bytes/sec)\n",
      "ServerApp.rate_limit_window=3.0 (secs)\n",
      "\n",
      "\n"
     ]
    }
   ],
   "source": [
    "class wikiCategory():\n",
    "    def __init__(self, data_path=DATA_PATH):\n",
    "        with open(os.path.join(DATA_PATH,'info.json'),'r') as infoFP:\n",
    "            self.info = json.load(infoFP)\n",
    "    \n",
    "    def returnArticle(self, articleNameKey):\n",
    "        articlePath = self.info[articleNameKey]['path']\n",
    "        with open(articlePath,'r',encoding=\"utf-8\") as articleFP:\n",
    "            article = ''.join(articleFP.readlines())\n",
    "        return article\n",
    "\n",
    "    def vocabularize(self):\n",
    "        articles = []\n",
    "        print('reading articles...')\n",
    "        for articleNameKey in tqdm(self.info.keys()):\n",
    "            articles.append(self.returnArticle(articleNameKey))\n",
    "        articles = ''.join(articles)\n",
    "        return articles\n",
    "\n",
    "robotique = wikiCategory()\n",
    "#print(robotique.returnArticle('WALL-E'))\n",
    "print(robotique.vocabularize())"
   ]
  },
  {
   "cell_type": "code",
   "execution_count": null,
   "id": "fd7b963a-69c7-41e8-aef7-904777cbe96d",
   "metadata": {},
   "outputs": [],
   "source": [
    "\n"
   ]
  }
 ],
 "metadata": {
  "kernelspec": {
   "display_name": "Python 3 (ipykernel)",
   "language": "python",
   "name": "python3"
  },
  "language_info": {
   "codemirror_mode": {
    "name": "ipython",
    "version": 3
   },
   "file_extension": ".py",
   "mimetype": "text/x-python",
   "name": "python",
   "nbconvert_exporter": "python",
   "pygments_lexer": "ipython3",
   "version": "3.8.17"
  }
 },
 "nbformat": 4,
 "nbformat_minor": 5
}
