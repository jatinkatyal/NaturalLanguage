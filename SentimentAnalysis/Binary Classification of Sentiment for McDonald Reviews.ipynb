{
 "cells": [
  {
   "cell_type": "code",
   "execution_count": 60,
   "id": "4736a72f",
   "metadata": {},
   "outputs": [],
   "source": [
    "# just some imports to be used later\n",
    "import os\n",
    "from zipfile import ZipFile\n",
    "\n",
    "import numpy as np\n",
    "import seaborn\n",
    "import pandas as pd\n",
    "\n",
    "import nltk\n",
    "from sklearn.model_selection import train_test_split\n",
    "from sklearn.linear_model import LogisticRegression\n",
    "from sklearn.metrics import classification_report"
   ]
  },
  {
   "cell_type": "markdown",
   "id": "694a2738",
   "metadata": {},
   "source": [
    "# Getting the Dataset\n",
    "Dataset sourced from Kaggle, [McDonald's Store Reviews](https://www.kaggle.com/datasets/nelgiriyewithana/mcdonalds-store-reviews)\n",
    "\n",
    "<b>For first time usage:\n",
    "    \n",
    "1. Use: <i>pip install kaggle</i> or conda installation to install Kaggle API\n",
    "1. Go to Kaggle > Settings > API > Create New Token\n",
    "1. Copy the downloaded JSON to appropriate location (In windows: C:\\Users\\your_name\\\\\\.kaggle)\n"
   ]
  },
  {
   "cell_type": "code",
   "execution_count": 5,
   "id": "cb77168d",
   "metadata": {},
   "outputs": [
    {
     "name": "stdout",
     "output_type": "stream",
     "text": [
      "Downloading mcdonalds-store-reviews.zip to D:\\Work\\Learning\\NaturalLanguage\\SentimentAnalysis\n",
      "\n"
     ]
    },
    {
     "name": "stderr",
     "output_type": "stream",
     "text": [
      "\n",
      "  0%|          | 0.00/1.78M [00:00<?, ?B/s]\n",
      " 56%|#####6    | 1.00M/1.78M [00:00<00:00, 2.93MB/s]\n",
      "100%|##########| 1.78M/1.78M [00:00<00:00, 2.82MB/s]\n",
      "100%|##########| 1.78M/1.78M [00:00<00:00, 2.84MB/s]\n"
     ]
    }
   ],
   "source": [
    "# Get dataset\n",
    "!kaggle datasets download \"nelgiriyewithana/mcdonalds-store-reviews\""
   ]
  },
  {
   "cell_type": "code",
   "execution_count": 6,
   "id": "313f6ad8",
   "metadata": {},
   "outputs": [],
   "source": [
    "# Extract zip file\n",
    "with ZipFile('mcdonalds-store-reviews.zip','r') as zipped_file:\n",
    "    zipped_file.extractall()"
   ]
  },
  {
   "cell_type": "code",
   "execution_count": 7,
   "id": "de028325",
   "metadata": {},
   "outputs": [],
   "source": [
    "# Delete the zipfile\n",
    "os.remove('mcdonalds-store-reviews.zip')"
   ]
  },
  {
   "cell_type": "markdown",
   "id": "54d28540",
   "metadata": {},
   "source": [
    "# The Dataset"
   ]
  },
  {
   "cell_type": "code",
   "execution_count": 8,
   "id": "88f7ed0c",
   "metadata": {},
   "outputs": [
    {
     "data": {
      "text/html": [
       "<div>\n",
       "<style scoped>\n",
       "    .dataframe tbody tr th:only-of-type {\n",
       "        vertical-align: middle;\n",
       "    }\n",
       "\n",
       "    .dataframe tbody tr th {\n",
       "        vertical-align: top;\n",
       "    }\n",
       "\n",
       "    .dataframe thead th {\n",
       "        text-align: right;\n",
       "    }\n",
       "</style>\n",
       "<table border=\"1\" class=\"dataframe\">\n",
       "  <thead>\n",
       "    <tr style=\"text-align: right;\">\n",
       "      <th></th>\n",
       "      <th>reviewer_id</th>\n",
       "      <th>store_name</th>\n",
       "      <th>category</th>\n",
       "      <th>store_address</th>\n",
       "      <th>latitude</th>\n",
       "      <th>longitude</th>\n",
       "      <th>rating_count</th>\n",
       "      <th>review_time</th>\n",
       "      <th>review</th>\n",
       "      <th>rating</th>\n",
       "    </tr>\n",
       "  </thead>\n",
       "  <tbody>\n",
       "    <tr>\n",
       "      <th>0</th>\n",
       "      <td>1</td>\n",
       "      <td>McDonald's</td>\n",
       "      <td>Fast food restaurant</td>\n",
       "      <td>13749 US-183 Hwy, Austin, TX 78750, United States</td>\n",
       "      <td>30.460718</td>\n",
       "      <td>-97.792874</td>\n",
       "      <td>1,240</td>\n",
       "      <td>3 months ago</td>\n",
       "      <td>Why does it look like someone spit on my food?...</td>\n",
       "      <td>1 star</td>\n",
       "    </tr>\n",
       "    <tr>\n",
       "      <th>1</th>\n",
       "      <td>2</td>\n",
       "      <td>McDonald's</td>\n",
       "      <td>Fast food restaurant</td>\n",
       "      <td>13749 US-183 Hwy, Austin, TX 78750, United States</td>\n",
       "      <td>30.460718</td>\n",
       "      <td>-97.792874</td>\n",
       "      <td>1,240</td>\n",
       "      <td>5 days ago</td>\n",
       "      <td>It'd McDonalds. It is what it is as far as the...</td>\n",
       "      <td>4 stars</td>\n",
       "    </tr>\n",
       "    <tr>\n",
       "      <th>2</th>\n",
       "      <td>3</td>\n",
       "      <td>McDonald's</td>\n",
       "      <td>Fast food restaurant</td>\n",
       "      <td>13749 US-183 Hwy, Austin, TX 78750, United States</td>\n",
       "      <td>30.460718</td>\n",
       "      <td>-97.792874</td>\n",
       "      <td>1,240</td>\n",
       "      <td>5 days ago</td>\n",
       "      <td>Made a mobile order got to the speaker and che...</td>\n",
       "      <td>1 star</td>\n",
       "    </tr>\n",
       "    <tr>\n",
       "      <th>3</th>\n",
       "      <td>4</td>\n",
       "      <td>McDonald's</td>\n",
       "      <td>Fast food restaurant</td>\n",
       "      <td>13749 US-183 Hwy, Austin, TX 78750, United States</td>\n",
       "      <td>30.460718</td>\n",
       "      <td>-97.792874</td>\n",
       "      <td>1,240</td>\n",
       "      <td>a month ago</td>\n",
       "      <td>My mc. Crispy chicken sandwich was �����������...</td>\n",
       "      <td>5 stars</td>\n",
       "    </tr>\n",
       "    <tr>\n",
       "      <th>4</th>\n",
       "      <td>5</td>\n",
       "      <td>McDonald's</td>\n",
       "      <td>Fast food restaurant</td>\n",
       "      <td>13749 US-183 Hwy, Austin, TX 78750, United States</td>\n",
       "      <td>30.460718</td>\n",
       "      <td>-97.792874</td>\n",
       "      <td>1,240</td>\n",
       "      <td>2 months ago</td>\n",
       "      <td>I repeat my order 3 times in the drive thru, a...</td>\n",
       "      <td>1 star</td>\n",
       "    </tr>\n",
       "  </tbody>\n",
       "</table>\n",
       "</div>"
      ],
      "text/plain": [
       "   reviewer_id  store_name              category  \\\n",
       "0            1  McDonald's  Fast food restaurant   \n",
       "1            2  McDonald's  Fast food restaurant   \n",
       "2            3  McDonald's  Fast food restaurant   \n",
       "3            4  McDonald's  Fast food restaurant   \n",
       "4            5  McDonald's  Fast food restaurant   \n",
       "\n",
       "                                       store_address  latitude   longitude  \\\n",
       "0  13749 US-183 Hwy, Austin, TX 78750, United States  30.460718 -97.792874   \n",
       "1  13749 US-183 Hwy, Austin, TX 78750, United States  30.460718 -97.792874   \n",
       "2  13749 US-183 Hwy, Austin, TX 78750, United States  30.460718 -97.792874   \n",
       "3  13749 US-183 Hwy, Austin, TX 78750, United States  30.460718 -97.792874   \n",
       "4  13749 US-183 Hwy, Austin, TX 78750, United States  30.460718 -97.792874   \n",
       "\n",
       "  rating_count   review_time  \\\n",
       "0        1,240  3 months ago   \n",
       "1        1,240    5 days ago   \n",
       "2        1,240    5 days ago   \n",
       "3        1,240   a month ago   \n",
       "4        1,240  2 months ago   \n",
       "\n",
       "                                              review   rating  \n",
       "0  Why does it look like someone spit on my food?...   1 star  \n",
       "1  It'd McDonalds. It is what it is as far as the...  4 stars  \n",
       "2  Made a mobile order got to the speaker and che...   1 star  \n",
       "3  My mc. Crispy chicken sandwich was �����������...  5 stars  \n",
       "4  I repeat my order 3 times in the drive thru, a...   1 star  "
      ]
     },
     "execution_count": 8,
     "metadata": {},
     "output_type": "execute_result"
    }
   ],
   "source": [
    "# Read Dataset\n",
    "og_data = pd.read_csv('McDonald_s_Reviews.csv',encoding_errors='ignore')\n",
    "og_data.head()"
   ]
  },
  {
   "cell_type": "markdown",
   "id": "6da6b3f1",
   "metadata": {},
   "source": [
    "The dataset has multiple columns but for my experiment, I only need the review and the rating. Dropping everything else."
   ]
  },
  {
   "cell_type": "code",
   "execution_count": 9,
   "id": "f2ea6683",
   "metadata": {},
   "outputs": [
    {
     "data": {
      "text/html": [
       "<div>\n",
       "<style scoped>\n",
       "    .dataframe tbody tr th:only-of-type {\n",
       "        vertical-align: middle;\n",
       "    }\n",
       "\n",
       "    .dataframe tbody tr th {\n",
       "        vertical-align: top;\n",
       "    }\n",
       "\n",
       "    .dataframe thead th {\n",
       "        text-align: right;\n",
       "    }\n",
       "</style>\n",
       "<table border=\"1\" class=\"dataframe\">\n",
       "  <thead>\n",
       "    <tr style=\"text-align: right;\">\n",
       "      <th></th>\n",
       "      <th>review</th>\n",
       "      <th>rating</th>\n",
       "    </tr>\n",
       "  </thead>\n",
       "  <tbody>\n",
       "    <tr>\n",
       "      <th>0</th>\n",
       "      <td>Why does it look like someone spit on my food?...</td>\n",
       "      <td>1 star</td>\n",
       "    </tr>\n",
       "    <tr>\n",
       "      <th>1</th>\n",
       "      <td>It'd McDonalds. It is what it is as far as the...</td>\n",
       "      <td>4 stars</td>\n",
       "    </tr>\n",
       "    <tr>\n",
       "      <th>2</th>\n",
       "      <td>Made a mobile order got to the speaker and che...</td>\n",
       "      <td>1 star</td>\n",
       "    </tr>\n",
       "    <tr>\n",
       "      <th>3</th>\n",
       "      <td>My mc. Crispy chicken sandwich was �����������...</td>\n",
       "      <td>5 stars</td>\n",
       "    </tr>\n",
       "    <tr>\n",
       "      <th>4</th>\n",
       "      <td>I repeat my order 3 times in the drive thru, a...</td>\n",
       "      <td>1 star</td>\n",
       "    </tr>\n",
       "  </tbody>\n",
       "</table>\n",
       "</div>"
      ],
      "text/plain": [
       "                                              review   rating\n",
       "0  Why does it look like someone spit on my food?...   1 star\n",
       "1  It'd McDonalds. It is what it is as far as the...  4 stars\n",
       "2  Made a mobile order got to the speaker and che...   1 star\n",
       "3  My mc. Crispy chicken sandwich was �����������...  5 stars\n",
       "4  I repeat my order 3 times in the drive thru, a...   1 star"
      ]
     },
     "execution_count": 9,
     "metadata": {},
     "output_type": "execute_result"
    }
   ],
   "source": [
    "#drop columns\n",
    "dropcols_data = og_data[['review','rating']].copy()\n",
    "dropcols_data.head()"
   ]
  },
  {
   "cell_type": "code",
   "execution_count": 10,
   "id": "ffdcdeb7",
   "metadata": {},
   "outputs": [
    {
     "data": {
      "text/html": [
       "<div>\n",
       "<style scoped>\n",
       "    .dataframe tbody tr th:only-of-type {\n",
       "        vertical-align: middle;\n",
       "    }\n",
       "\n",
       "    .dataframe tbody tr th {\n",
       "        vertical-align: top;\n",
       "    }\n",
       "\n",
       "    .dataframe thead th {\n",
       "        text-align: right;\n",
       "    }\n",
       "</style>\n",
       "<table border=\"1\" class=\"dataframe\">\n",
       "  <thead>\n",
       "    <tr style=\"text-align: right;\">\n",
       "      <th></th>\n",
       "      <th>review</th>\n",
       "      <th>rating</th>\n",
       "    </tr>\n",
       "  </thead>\n",
       "  <tbody>\n",
       "    <tr>\n",
       "      <th>0</th>\n",
       "      <td>Why does it look like someone spit on my food?...</td>\n",
       "      <td>1</td>\n",
       "    </tr>\n",
       "    <tr>\n",
       "      <th>1</th>\n",
       "      <td>It'd McDonalds. It is what it is as far as the...</td>\n",
       "      <td>4</td>\n",
       "    </tr>\n",
       "    <tr>\n",
       "      <th>2</th>\n",
       "      <td>Made a mobile order got to the speaker and che...</td>\n",
       "      <td>1</td>\n",
       "    </tr>\n",
       "    <tr>\n",
       "      <th>3</th>\n",
       "      <td>My mc. Crispy chicken sandwich was �����������...</td>\n",
       "      <td>5</td>\n",
       "    </tr>\n",
       "    <tr>\n",
       "      <th>4</th>\n",
       "      <td>I repeat my order 3 times in the drive thru, a...</td>\n",
       "      <td>1</td>\n",
       "    </tr>\n",
       "  </tbody>\n",
       "</table>\n",
       "</div>"
      ],
      "text/plain": [
       "                                              review  rating\n",
       "0  Why does it look like someone spit on my food?...       1\n",
       "1  It'd McDonalds. It is what it is as far as the...       4\n",
       "2  Made a mobile order got to the speaker and che...       1\n",
       "3  My mc. Crispy chicken sandwich was �����������...       5\n",
       "4  I repeat my order 3 times in the drive thru, a...       1"
      ]
     },
     "execution_count": 10,
     "metadata": {},
     "output_type": "execute_result"
    }
   ],
   "source": [
    "# change star rating to integer\n",
    "dropcols_data['rating'] = dropcols_data['rating'].apply(lambda x: int(x.split()[0]))\n",
    "dropcols_data.head()"
   ]
  },
  {
   "cell_type": "code",
   "execution_count": 11,
   "id": "a13fc580",
   "metadata": {},
   "outputs": [
    {
     "data": {
      "text/plain": [
       "review    33385\n",
       "rating    33396\n",
       "dtype: int64"
      ]
     },
     "execution_count": 11,
     "metadata": {},
     "output_type": "execute_result"
    }
   ],
   "source": [
    "# Raw dataset\n",
    "dropcols_data.count()"
   ]
  },
  {
   "cell_type": "code",
   "execution_count": 12,
   "id": "ad2c0f6f",
   "metadata": {},
   "outputs": [
    {
     "name": "stdout",
     "output_type": "stream",
     "text": [
      "Total ratings with no reviews: 11\n",
      "review    33385\n",
      "rating    33385\n",
      "dtype: int64\n"
     ]
    }
   ],
   "source": [
    "# Ratings without reviews\n",
    "no_rev = list(dropcols_data.index[dropcols_data['review'].isna()])\n",
    "print(f'Total ratings with no reviews: {len(no_rev)}')\n",
    "\n",
    "# drop ratings with no reviews\n",
    "dropcols_data = dropcols_data.drop(no_rev)\n",
    "print(dropcols_data.count())"
   ]
  },
  {
   "cell_type": "code",
   "execution_count": 13,
   "id": "5752ec1c",
   "metadata": {},
   "outputs": [
    {
     "name": "stdout",
     "output_type": "stream",
     "text": [
      "Number of neutral ratings: 4814\n"
     ]
    },
    {
     "data": {
      "text/plain": [
       "review    28571\n",
       "rating    28571\n",
       "dtype: int64"
      ]
     },
     "execution_count": 13,
     "metadata": {},
     "output_type": "execute_result"
    }
   ],
   "source": [
    "# Neutral reviews\n",
    "ratings_3star = list(dropcols_data.index[dropcols_data['rating']==3])\n",
    "print(f'Number of neutral ratings: {len(ratings_3star)}')\n",
    "\n",
    "# drop neutral 3 star reviews\n",
    "dropcols_data = dropcols_data.drop(ratings_3star)\n",
    "dropcols_data.count()"
   ]
  },
  {
   "cell_type": "code",
   "execution_count": 14,
   "id": "65ab2125",
   "metadata": {},
   "outputs": [
    {
     "data": {
      "text/html": [
       "<div>\n",
       "<style scoped>\n",
       "    .dataframe tbody tr th:only-of-type {\n",
       "        vertical-align: middle;\n",
       "    }\n",
       "\n",
       "    .dataframe tbody tr th {\n",
       "        vertical-align: top;\n",
       "    }\n",
       "\n",
       "    .dataframe thead th {\n",
       "        text-align: right;\n",
       "    }\n",
       "</style>\n",
       "<table border=\"1\" class=\"dataframe\">\n",
       "  <thead>\n",
       "    <tr style=\"text-align: right;\">\n",
       "      <th></th>\n",
       "      <th>review</th>\n",
       "      <th>Sentiment</th>\n",
       "    </tr>\n",
       "  </thead>\n",
       "  <tbody>\n",
       "    <tr>\n",
       "      <th>0</th>\n",
       "      <td>Why does it look like someone spit on my food?...</td>\n",
       "      <td>0</td>\n",
       "    </tr>\n",
       "    <tr>\n",
       "      <th>1</th>\n",
       "      <td>It'd McDonalds. It is what it is as far as the...</td>\n",
       "      <td>1</td>\n",
       "    </tr>\n",
       "    <tr>\n",
       "      <th>2</th>\n",
       "      <td>Made a mobile order got to the speaker and che...</td>\n",
       "      <td>0</td>\n",
       "    </tr>\n",
       "    <tr>\n",
       "      <th>3</th>\n",
       "      <td>My mc. Crispy chicken sandwich was �����������...</td>\n",
       "      <td>1</td>\n",
       "    </tr>\n",
       "    <tr>\n",
       "      <th>4</th>\n",
       "      <td>I repeat my order 3 times in the drive thru, a...</td>\n",
       "      <td>0</td>\n",
       "    </tr>\n",
       "  </tbody>\n",
       "</table>\n",
       "</div>"
      ],
      "text/plain": [
       "                                              review  Sentiment\n",
       "0  Why does it look like someone spit on my food?...          0\n",
       "1  It'd McDonalds. It is what it is as far as the...          1\n",
       "2  Made a mobile order got to the speaker and che...          0\n",
       "3  My mc. Crispy chicken sandwich was �����������...          1\n",
       "4  I repeat my order 3 times in the drive thru, a...          0"
      ]
     },
     "execution_count": 14,
     "metadata": {},
     "output_type": "execute_result"
    }
   ],
   "source": [
    "#chnage rating to label, 1: positive and 0:negative\n",
    "dropcols_data['Sentiment'] = dropcols_data['rating'].apply(lambda x: 1 if x>3 else 0)\n",
    "dataset = dropcols_data[['review','Sentiment']].copy()\n",
    "dataset.head()"
   ]
  },
  {
   "cell_type": "markdown",
   "id": "10dbb001",
   "metadata": {},
   "source": [
    "# Preprocessing the dataset"
   ]
  },
  {
   "cell_type": "code",
   "execution_count": 29,
   "id": "64b22271-8ea3-4083-8459-692e278360cf",
   "metadata": {},
   "outputs": [
    {
     "data": {
      "text/html": [
       "<div>\n",
       "<style scoped>\n",
       "    .dataframe tbody tr th:only-of-type {\n",
       "        vertical-align: middle;\n",
       "    }\n",
       "\n",
       "    .dataframe tbody tr th {\n",
       "        vertical-align: top;\n",
       "    }\n",
       "\n",
       "    .dataframe thead th {\n",
       "        text-align: right;\n",
       "    }\n",
       "</style>\n",
       "<table border=\"1\" class=\"dataframe\">\n",
       "  <thead>\n",
       "    <tr style=\"text-align: right;\">\n",
       "      <th></th>\n",
       "      <th>review</th>\n",
       "      <th>Sentiment</th>\n",
       "      <th>preprocessed_review</th>\n",
       "    </tr>\n",
       "  </thead>\n",
       "  <tbody>\n",
       "    <tr>\n",
       "      <th>0</th>\n",
       "      <td>Why does it look like someone spit on my food?...</td>\n",
       "      <td>0</td>\n",
       "      <td>why does it look like someone spit on my food?...</td>\n",
       "    </tr>\n",
       "    <tr>\n",
       "      <th>1</th>\n",
       "      <td>It'd McDonalds. It is what it is as far as the...</td>\n",
       "      <td>1</td>\n",
       "      <td>it'd mcdonalds. it is what it is as far as the...</td>\n",
       "    </tr>\n",
       "    <tr>\n",
       "      <th>2</th>\n",
       "      <td>Made a mobile order got to the speaker and che...</td>\n",
       "      <td>0</td>\n",
       "      <td>made a mobile order got to the speaker and che...</td>\n",
       "    </tr>\n",
       "    <tr>\n",
       "      <th>3</th>\n",
       "      <td>My mc. Crispy chicken sandwich was �����������...</td>\n",
       "      <td>1</td>\n",
       "      <td>my mc. crispy chicken sandwich was �����������...</td>\n",
       "    </tr>\n",
       "    <tr>\n",
       "      <th>4</th>\n",
       "      <td>I repeat my order 3 times in the drive thru, a...</td>\n",
       "      <td>0</td>\n",
       "      <td>i repeat my order 3 times in the drive thru, a...</td>\n",
       "    </tr>\n",
       "  </tbody>\n",
       "</table>\n",
       "</div>"
      ],
      "text/plain": [
       "                                              review  Sentiment  \\\n",
       "0  Why does it look like someone spit on my food?...          0   \n",
       "1  It'd McDonalds. It is what it is as far as the...          1   \n",
       "2  Made a mobile order got to the speaker and che...          0   \n",
       "3  My mc. Crispy chicken sandwich was �����������...          1   \n",
       "4  I repeat my order 3 times in the drive thru, a...          0   \n",
       "\n",
       "                                 preprocessed_review  \n",
       "0  why does it look like someone spit on my food?...  \n",
       "1  it'd mcdonalds. it is what it is as far as the...  \n",
       "2  made a mobile order got to the speaker and che...  \n",
       "3  my mc. crispy chicken sandwich was �����������...  \n",
       "4  i repeat my order 3 times in the drive thru, a...  "
      ]
     },
     "execution_count": 29,
     "metadata": {},
     "output_type": "execute_result"
    }
   ],
   "source": [
    "# Lower case\n",
    "dataset['preprocessed_review'] = dataset['review'].apply(lambda sentence: sentence.lower())\n",
    "dataset.head()"
   ]
  },
  {
   "cell_type": "code",
   "execution_count": 30,
   "id": "b806bb99",
   "metadata": {},
   "outputs": [
    {
     "name": "stderr",
     "output_type": "stream",
     "text": [
      "[nltk_data] Downloading package punkt to\n",
      "[nltk_data]     C:\\Users\\jatin\\AppData\\Roaming\\nltk_data...\n",
      "[nltk_data]   Package punkt is already up-to-date!\n"
     ]
    },
    {
     "data": {
      "text/html": [
       "<div>\n",
       "<style scoped>\n",
       "    .dataframe tbody tr th:only-of-type {\n",
       "        vertical-align: middle;\n",
       "    }\n",
       "\n",
       "    .dataframe tbody tr th {\n",
       "        vertical-align: top;\n",
       "    }\n",
       "\n",
       "    .dataframe thead th {\n",
       "        text-align: right;\n",
       "    }\n",
       "</style>\n",
       "<table border=\"1\" class=\"dataframe\">\n",
       "  <thead>\n",
       "    <tr style=\"text-align: right;\">\n",
       "      <th></th>\n",
       "      <th>review</th>\n",
       "      <th>Sentiment</th>\n",
       "      <th>preprocessed_review</th>\n",
       "    </tr>\n",
       "  </thead>\n",
       "  <tbody>\n",
       "    <tr>\n",
       "      <th>0</th>\n",
       "      <td>Why does it look like someone spit on my food?...</td>\n",
       "      <td>0</td>\n",
       "      <td>[why, does, it, look, like, someone, spit, on,...</td>\n",
       "    </tr>\n",
       "    <tr>\n",
       "      <th>1</th>\n",
       "      <td>It'd McDonalds. It is what it is as far as the...</td>\n",
       "      <td>1</td>\n",
       "      <td>[it, ', d, mcdonalds, ., it, is, what, it, is,...</td>\n",
       "    </tr>\n",
       "    <tr>\n",
       "      <th>2</th>\n",
       "      <td>Made a mobile order got to the speaker and che...</td>\n",
       "      <td>0</td>\n",
       "      <td>[made, a, mobile, order, got, to, the, speaker...</td>\n",
       "    </tr>\n",
       "    <tr>\n",
       "      <th>3</th>\n",
       "      <td>My mc. Crispy chicken sandwich was �����������...</td>\n",
       "      <td>1</td>\n",
       "      <td>[my, mc, ., crispy, chicken, sandwich, was, ��...</td>\n",
       "    </tr>\n",
       "    <tr>\n",
       "      <th>4</th>\n",
       "      <td>I repeat my order 3 times in the drive thru, a...</td>\n",
       "      <td>0</td>\n",
       "      <td>[i, repeat, my, order, 3, times, in, the, driv...</td>\n",
       "    </tr>\n",
       "  </tbody>\n",
       "</table>\n",
       "</div>"
      ],
      "text/plain": [
       "                                              review  Sentiment  \\\n",
       "0  Why does it look like someone spit on my food?...          0   \n",
       "1  It'd McDonalds. It is what it is as far as the...          1   \n",
       "2  Made a mobile order got to the speaker and che...          0   \n",
       "3  My mc. Crispy chicken sandwich was �����������...          1   \n",
       "4  I repeat my order 3 times in the drive thru, a...          0   \n",
       "\n",
       "                                 preprocessed_review  \n",
       "0  [why, does, it, look, like, someone, spit, on,...  \n",
       "1  [it, ', d, mcdonalds, ., it, is, what, it, is,...  \n",
       "2  [made, a, mobile, order, got, to, the, speaker...  \n",
       "3  [my, mc, ., crispy, chicken, sandwich, was, ��...  \n",
       "4  [i, repeat, my, order, 3, times, in, the, driv...  "
      ]
     },
     "execution_count": 30,
     "metadata": {},
     "output_type": "execute_result"
    }
   ],
   "source": [
    "# Tokenization\n",
    "nltk.download('punkt') # if error\n",
    "tokenizer = nltk.tokenize.WordPunctTokenizer()\n",
    "dataset['preprocessed_review'] = dataset['preprocessed_review'].apply(lambda x: tokenizer.tokenize(x))\n",
    "dataset.head()"
   ]
  },
  {
   "cell_type": "code",
   "execution_count": 31,
   "id": "c93f84d7-4440-4808-b133-171c6a648ac8",
   "metadata": {},
   "outputs": [],
   "source": [
    "# Handle Removal\n",
    "# Not needed in this usecase but for tweets or other cases might be usefull."
   ]
  },
  {
   "cell_type": "code",
   "execution_count": 32,
   "id": "4525351d-f41c-42aa-b978-be6ea65b3fe9",
   "metadata": {},
   "outputs": [
    {
     "name": "stderr",
     "output_type": "stream",
     "text": [
      "[nltk_data] Downloading package stopwords to\n",
      "[nltk_data]     C:\\Users\\jatin\\AppData\\Roaming\\nltk_data...\n",
      "[nltk_data]   Package stopwords is already up-to-date!\n"
     ]
    },
    {
     "data": {
      "text/html": [
       "<div>\n",
       "<style scoped>\n",
       "    .dataframe tbody tr th:only-of-type {\n",
       "        vertical-align: middle;\n",
       "    }\n",
       "\n",
       "    .dataframe tbody tr th {\n",
       "        vertical-align: top;\n",
       "    }\n",
       "\n",
       "    .dataframe thead th {\n",
       "        text-align: right;\n",
       "    }\n",
       "</style>\n",
       "<table border=\"1\" class=\"dataframe\">\n",
       "  <thead>\n",
       "    <tr style=\"text-align: right;\">\n",
       "      <th></th>\n",
       "      <th>review</th>\n",
       "      <th>Sentiment</th>\n",
       "      <th>preprocessed_review</th>\n",
       "    </tr>\n",
       "  </thead>\n",
       "  <tbody>\n",
       "    <tr>\n",
       "      <th>0</th>\n",
       "      <td>Why does it look like someone spit on my food?...</td>\n",
       "      <td>0</td>\n",
       "      <td>[look, like, someone, spit, food, ?, normal, t...</td>\n",
       "    </tr>\n",
       "    <tr>\n",
       "      <th>1</th>\n",
       "      <td>It'd McDonalds. It is what it is as far as the...</td>\n",
       "      <td>1</td>\n",
       "      <td>[', mcdonalds, ., far, food, atmosphere, go, ....</td>\n",
       "    </tr>\n",
       "    <tr>\n",
       "      <th>2</th>\n",
       "      <td>Made a mobile order got to the speaker and che...</td>\n",
       "      <td>0</td>\n",
       "      <td>[made, mobile, order, got, speaker, checked, ....</td>\n",
       "    </tr>\n",
       "    <tr>\n",
       "      <th>3</th>\n",
       "      <td>My mc. Crispy chicken sandwich was �����������...</td>\n",
       "      <td>1</td>\n",
       "      <td>[mc, ., crispy, chicken, sandwich, �����������...</td>\n",
       "    </tr>\n",
       "    <tr>\n",
       "      <th>4</th>\n",
       "      <td>I repeat my order 3 times in the drive thru, a...</td>\n",
       "      <td>0</td>\n",
       "      <td>[repeat, order, 3, times, drive, thru, ,, stil...</td>\n",
       "    </tr>\n",
       "  </tbody>\n",
       "</table>\n",
       "</div>"
      ],
      "text/plain": [
       "                                              review  Sentiment  \\\n",
       "0  Why does it look like someone spit on my food?...          0   \n",
       "1  It'd McDonalds. It is what it is as far as the...          1   \n",
       "2  Made a mobile order got to the speaker and che...          0   \n",
       "3  My mc. Crispy chicken sandwich was �����������...          1   \n",
       "4  I repeat my order 3 times in the drive thru, a...          0   \n",
       "\n",
       "                                 preprocessed_review  \n",
       "0  [look, like, someone, spit, food, ?, normal, t...  \n",
       "1  [', mcdonalds, ., far, food, atmosphere, go, ....  \n",
       "2  [made, mobile, order, got, speaker, checked, ....  \n",
       "3  [mc, ., crispy, chicken, sandwich, �����������...  \n",
       "4  [repeat, order, 3, times, drive, thru, ,, stil...  "
      ]
     },
     "execution_count": 32,
     "metadata": {},
     "output_type": "execute_result"
    }
   ],
   "source": [
    "# Stop word removal\n",
    "nltk.download('stopwords')\n",
    "stopwords = nltk.corpus.stopwords.words('english')\n",
    "dataset['preprocessed_review'] = dataset['preprocessed_review'].apply(lambda tokens: [t for t in tokens if t not in stopwords])\n",
    "dataset.head()"
   ]
  },
  {
   "cell_type": "code",
   "execution_count": 33,
   "id": "8e04c631-5ef2-499c-8ac5-510694c44c23",
   "metadata": {},
   "outputs": [
    {
     "name": "stderr",
     "output_type": "stream",
     "text": [
      "[nltk_data] Downloading package wordnet to\n",
      "[nltk_data]     C:\\Users\\jatin\\AppData\\Roaming\\nltk_data...\n",
      "[nltk_data]   Package wordnet is already up-to-date!\n"
     ]
    },
    {
     "data": {
      "text/html": [
       "<div>\n",
       "<style scoped>\n",
       "    .dataframe tbody tr th:only-of-type {\n",
       "        vertical-align: middle;\n",
       "    }\n",
       "\n",
       "    .dataframe tbody tr th {\n",
       "        vertical-align: top;\n",
       "    }\n",
       "\n",
       "    .dataframe thead th {\n",
       "        text-align: right;\n",
       "    }\n",
       "</style>\n",
       "<table border=\"1\" class=\"dataframe\">\n",
       "  <thead>\n",
       "    <tr style=\"text-align: right;\">\n",
       "      <th></th>\n",
       "      <th>review</th>\n",
       "      <th>Sentiment</th>\n",
       "      <th>preprocessed_review</th>\n",
       "    </tr>\n",
       "  </thead>\n",
       "  <tbody>\n",
       "    <tr>\n",
       "      <th>0</th>\n",
       "      <td>Why does it look like someone spit on my food?...</td>\n",
       "      <td>0</td>\n",
       "      <td>[look, like, someone, spit, food, ?, normal, t...</td>\n",
       "    </tr>\n",
       "    <tr>\n",
       "      <th>1</th>\n",
       "      <td>It'd McDonalds. It is what it is as far as the...</td>\n",
       "      <td>1</td>\n",
       "      <td>[', mcdonalds, ., far, food, atmosphere, go, ....</td>\n",
       "    </tr>\n",
       "    <tr>\n",
       "      <th>2</th>\n",
       "      <td>Made a mobile order got to the speaker and che...</td>\n",
       "      <td>0</td>\n",
       "      <td>[made, mobile, order, got, speaker, checked, ....</td>\n",
       "    </tr>\n",
       "    <tr>\n",
       "      <th>3</th>\n",
       "      <td>My mc. Crispy chicken sandwich was �����������...</td>\n",
       "      <td>1</td>\n",
       "      <td>[mc, ., crispy, chicken, sandwich, �����������...</td>\n",
       "    </tr>\n",
       "    <tr>\n",
       "      <th>4</th>\n",
       "      <td>I repeat my order 3 times in the drive thru, a...</td>\n",
       "      <td>0</td>\n",
       "      <td>[repeat, order, 3, time, drive, thru, ,, still...</td>\n",
       "    </tr>\n",
       "  </tbody>\n",
       "</table>\n",
       "</div>"
      ],
      "text/plain": [
       "                                              review  Sentiment  \\\n",
       "0  Why does it look like someone spit on my food?...          0   \n",
       "1  It'd McDonalds. It is what it is as far as the...          1   \n",
       "2  Made a mobile order got to the speaker and che...          0   \n",
       "3  My mc. Crispy chicken sandwich was �����������...          1   \n",
       "4  I repeat my order 3 times in the drive thru, a...          0   \n",
       "\n",
       "                                 preprocessed_review  \n",
       "0  [look, like, someone, spit, food, ?, normal, t...  \n",
       "1  [', mcdonalds, ., far, food, atmosphere, go, ....  \n",
       "2  [made, mobile, order, got, speaker, checked, ....  \n",
       "3  [mc, ., crispy, chicken, sandwich, �����������...  \n",
       "4  [repeat, order, 3, time, drive, thru, ,, still...  "
      ]
     },
     "execution_count": 33,
     "metadata": {},
     "output_type": "execute_result"
    }
   ],
   "source": [
    "# Stemming or Lemmatization\n",
    "nltk.download('wordnet')\n",
    "lemmatizer = nltk.stem.WordNetLemmatizer()\n",
    "dataset['preprocessed_review'] = dataset['preprocessed_review'].apply(lambda tokens: [lemmatizer.lemmatize(t) for t in tokens])\n",
    "dataset.head()"
   ]
  },
  {
   "cell_type": "code",
   "execution_count": 34,
   "id": "b5bdb947-928a-43c9-bb6a-77c654a80e56",
   "metadata": {},
   "outputs": [
    {
     "name": "stdout",
     "output_type": "stream",
     "text": [
      "Train:\n",
      "review                 22856\n",
      "Sentiment              22856\n",
      "preprocessed_review    22856\n",
      "dtype: int64\n",
      "Test:\n",
      "review                 5715\n",
      "Sentiment              5715\n",
      "preprocessed_review    5715\n",
      "dtype: int64\n"
     ]
    }
   ],
   "source": [
    "# split into training and testing data\n",
    "train, test = train_test_split(dataset,test_size=0.2,random_state=2048)\n",
    "print('Train:')\n",
    "print(train.count())\n",
    "\n",
    "print('Test:')\n",
    "print(test.count())"
   ]
  },
  {
   "cell_type": "markdown",
   "id": "32e7379a-6b07-404b-88b2-6bc4485a2a7a",
   "metadata": {},
   "source": [
    "# Feature Extraction"
   ]
  },
  {
   "cell_type": "code",
   "execution_count": 35,
   "id": "b27f90ab-55cd-4fcf-b178-55d9c4d3de20",
   "metadata": {},
   "outputs": [
    {
     "data": {
      "text/html": [
       "<div>\n",
       "<style scoped>\n",
       "    .dataframe tbody tr th:only-of-type {\n",
       "        vertical-align: middle;\n",
       "    }\n",
       "\n",
       "    .dataframe tbody tr th {\n",
       "        vertical-align: top;\n",
       "    }\n",
       "\n",
       "    .dataframe thead th {\n",
       "        text-align: right;\n",
       "    }\n",
       "</style>\n",
       "<table border=\"1\" class=\"dataframe\">\n",
       "  <thead>\n",
       "    <tr style=\"text-align: right;\">\n",
       "      <th></th>\n",
       "      <th>positive_freq</th>\n",
       "      <th>negative_freq</th>\n",
       "    </tr>\n",
       "  </thead>\n",
       "  <tbody>\n",
       "    <tr>\n",
       "      <th>2</th>\n",
       "      <td>0</td>\n",
       "      <td>0</td>\n",
       "    </tr>\n",
       "    <tr>\n",
       "      <th>dammmm</th>\n",
       "      <td>0</td>\n",
       "      <td>0</td>\n",
       "    </tr>\n",
       "    <tr>\n",
       "      <th>bug</th>\n",
       "      <td>0</td>\n",
       "      <td>0</td>\n",
       "    </tr>\n",
       "    <tr>\n",
       "      <th>accident</th>\n",
       "      <td>0</td>\n",
       "      <td>0</td>\n",
       "    </tr>\n",
       "    <tr>\n",
       "      <th>card</th>\n",
       "      <td>0</td>\n",
       "      <td>0</td>\n",
       "    </tr>\n",
       "    <tr>\n",
       "      <th>...</th>\n",
       "      <td>...</td>\n",
       "      <td>...</td>\n",
       "    </tr>\n",
       "    <tr>\n",
       "      <th>mcdonnalds</th>\n",
       "      <td>0</td>\n",
       "      <td>0</td>\n",
       "    </tr>\n",
       "    <tr>\n",
       "      <th>outraged</th>\n",
       "      <td>0</td>\n",
       "      <td>0</td>\n",
       "    </tr>\n",
       "    <tr>\n",
       "      <th>face</th>\n",
       "      <td>0</td>\n",
       "      <td>0</td>\n",
       "    </tr>\n",
       "    <tr>\n",
       "      <th>burgerfi</th>\n",
       "      <td>0</td>\n",
       "      <td>0</td>\n",
       "    </tr>\n",
       "    <tr>\n",
       "      <th>'...</th>\n",
       "      <td>0</td>\n",
       "      <td>0</td>\n",
       "    </tr>\n",
       "  </tbody>\n",
       "</table>\n",
       "<p>11311 rows × 2 columns</p>\n",
       "</div>"
      ],
      "text/plain": [
       "            positive_freq  negative_freq\n",
       "2                       0              0\n",
       "dammmm                  0              0\n",
       "bug                     0              0\n",
       "accident                0              0\n",
       "card                    0              0\n",
       "...                   ...            ...\n",
       "mcdonnalds              0              0\n",
       "outraged                0              0\n",
       "face                    0              0\n",
       "burgerfi                0              0\n",
       "'...                    0              0\n",
       "\n",
       "[11311 rows x 2 columns]"
      ]
     },
     "execution_count": 35,
     "metadata": {},
     "output_type": "execute_result"
    }
   ],
   "source": [
    "# find distinct words and initialize with 0 freq\n",
    "distinct_words = []\n",
    "for review in list(train['preprocessed_review']):\n",
    "    distinct_words.extend(review)\n",
    "distinct_words = list(set(distinct_words))\n",
    "init_freq = [0]*len(distinct_words)\n",
    "word_freq_table = pd.DataFrame({'positive_freq':init_freq,'negative_freq':init_freq},index=distinct_words)\n",
    "word_freq_table"
   ]
  },
  {
   "cell_type": "code",
   "execution_count": 36,
   "id": "1a6bbd06-425f-454c-aee3-36d6928cf4e1",
   "metadata": {},
   "outputs": [
    {
     "data": {
      "text/html": [
       "<div>\n",
       "<style scoped>\n",
       "    .dataframe tbody tr th:only-of-type {\n",
       "        vertical-align: middle;\n",
       "    }\n",
       "\n",
       "    .dataframe tbody tr th {\n",
       "        vertical-align: top;\n",
       "    }\n",
       "\n",
       "    .dataframe thead th {\n",
       "        text-align: right;\n",
       "    }\n",
       "</style>\n",
       "<table border=\"1\" class=\"dataframe\">\n",
       "  <thead>\n",
       "    <tr style=\"text-align: right;\">\n",
       "      <th></th>\n",
       "      <th>positive_freq</th>\n",
       "      <th>negative_freq</th>\n",
       "    </tr>\n",
       "  </thead>\n",
       "  <tbody>\n",
       "    <tr>\n",
       "      <th>2</th>\n",
       "      <td>206</td>\n",
       "      <td>650</td>\n",
       "    </tr>\n",
       "    <tr>\n",
       "      <th>dammmm</th>\n",
       "      <td>0</td>\n",
       "      <td>2</td>\n",
       "    </tr>\n",
       "    <tr>\n",
       "      <th>bug</th>\n",
       "      <td>0</td>\n",
       "      <td>9</td>\n",
       "    </tr>\n",
       "    <tr>\n",
       "      <th>accident</th>\n",
       "      <td>1</td>\n",
       "      <td>12</td>\n",
       "    </tr>\n",
       "    <tr>\n",
       "      <th>card</th>\n",
       "      <td>30</td>\n",
       "      <td>108</td>\n",
       "    </tr>\n",
       "  </tbody>\n",
       "</table>\n",
       "</div>"
      ],
      "text/plain": [
       "          positive_freq  negative_freq\n",
       "2                   206            650\n",
       "dammmm                0              2\n",
       "bug                   0              9\n",
       "accident              1             12\n",
       "card                 30            108"
      ]
     },
     "execution_count": 36,
     "metadata": {},
     "output_type": "execute_result"
    }
   ],
   "source": [
    "# count positive and negative frequencies or read already calculated frequencies\n",
    "if not os.path.exists('./McDonald_s_Reviews_freqtbl.csv'):\n",
    "    #positive frequency\n",
    "    positive_revs = train[train['Sentiment']==1]\n",
    "    for rev in positive_revs['preprocessed_review']:\n",
    "        for token in rev:\n",
    "            word_freq_table.at[token,'positive_freq'] = word_freq_table.at[token,'positive_freq'] +1\n",
    "    #negative frequency\n",
    "    negative_revs = train[train['Sentiment']==0]\n",
    "    for rev in negative_revs['preprocessed_review']:\n",
    "        for token in rev:\n",
    "            word_freq_table.at[token,'negative_freq'] = word_freq_table.at[token,'negative_freq'] +1\n",
    "    #save so there is no need to calculate again, don't forget to delete the file if making changes above this line\n",
    "    word_freq_table.to_csv('./McDonald_s_Reviews_freqtbl.csv')\n",
    "else:\n",
    "    word_freq_table = pd.read_csv('./McDonald_s_Reviews_freqtbl.csv',index_col=0)\n",
    "word_freq_table.head()"
   ]
  },
  {
   "cell_type": "code",
   "execution_count": 76,
   "id": "79bd73d8-1446-40e1-b71f-b36f23f8b3bb",
   "metadata": {},
   "outputs": [
    {
     "data": {
      "text/html": [
       "<div>\n",
       "<style scoped>\n",
       "    .dataframe tbody tr th:only-of-type {\n",
       "        vertical-align: middle;\n",
       "    }\n",
       "\n",
       "    .dataframe tbody tr th {\n",
       "        vertical-align: top;\n",
       "    }\n",
       "\n",
       "    .dataframe thead th {\n",
       "        text-align: right;\n",
       "    }\n",
       "</style>\n",
       "<table border=\"1\" class=\"dataframe\">\n",
       "  <thead>\n",
       "    <tr style=\"text-align: right;\">\n",
       "      <th></th>\n",
       "      <th>review</th>\n",
       "      <th>Sentiment</th>\n",
       "      <th>preprocessed_review</th>\n",
       "      <th>features</th>\n",
       "    </tr>\n",
       "  </thead>\n",
       "  <tbody>\n",
       "    <tr>\n",
       "      <th>26430</th>\n",
       "      <td>Worst one I've ever been to! They were rude, a...</td>\n",
       "      <td>0</td>\n",
       "      <td>[worst, one, ', ever, !, rude, ,, employee, ar...</td>\n",
       "      <td>[1, 15040, 25489]</td>\n",
       "    </tr>\n",
       "    <tr>\n",
       "      <th>24357</th>\n",
       "      <td>Awful. 2AM visit. Only two workers. Took 30 mi...</td>\n",
       "      <td>0</td>\n",
       "      <td>[awful, ., 2am, visit, ., two, worker, ., took...</td>\n",
       "      <td>[1, 60035, 107731]</td>\n",
       "    </tr>\n",
       "    <tr>\n",
       "      <th>2349</th>\n",
       "      <td>Exactly what you'd expect, from McDonald's, an...</td>\n",
       "      <td>1</td>\n",
       "      <td>[exactly, ', expect, ,, mcdonald, ', ,, 24, ho...</td>\n",
       "      <td>[1, 46197, 77173]</td>\n",
       "    </tr>\n",
       "    <tr>\n",
       "      <th>13817</th>\n",
       "      <td>It was cool definitely check it out!</td>\n",
       "      <td>1</td>\n",
       "      <td>[cool, definitely, check, !]</td>\n",
       "      <td>[1, 1748, 1583]</td>\n",
       "    </tr>\n",
       "    <tr>\n",
       "      <th>5890</th>\n",
       "      <td>I honestly only went for a large French fry an...</td>\n",
       "      <td>0</td>\n",
       "      <td>[honestly, went, large, french, fry, use, rest...</td>\n",
       "      <td>[1, 41445, 68478]</td>\n",
       "    </tr>\n",
       "  </tbody>\n",
       "</table>\n",
       "</div>"
      ],
      "text/plain": [
       "                                                  review  Sentiment  \\\n",
       "26430  Worst one I've ever been to! They were rude, a...          0   \n",
       "24357  Awful. 2AM visit. Only two workers. Took 30 mi...          0   \n",
       "2349   Exactly what you'd expect, from McDonald's, an...          1   \n",
       "13817               It was cool definitely check it out!          1   \n",
       "5890   I honestly only went for a large French fry an...          0   \n",
       "\n",
       "                                     preprocessed_review            features  \n",
       "26430  [worst, one, ', ever, !, rude, ,, employee, ar...   [1, 15040, 25489]  \n",
       "24357  [awful, ., 2am, visit, ., two, worker, ., took...  [1, 60035, 107731]  \n",
       "2349   [exactly, ', expect, ,, mcdonald, ', ,, 24, ho...   [1, 46197, 77173]  \n",
       "13817                       [cool, definitely, check, !]     [1, 1748, 1583]  \n",
       "5890   [honestly, went, large, french, fry, use, rest...   [1, 41445, 68478]  "
      ]
     },
     "execution_count": 76,
     "metadata": {},
     "output_type": "execute_result"
    }
   ],
   "source": [
    "# Find feature vector for a review\n",
    "def calculateFeatureVector(tokens,freqTable):\n",
    "    featureVector = np.array([1,0,0])\n",
    "    for token in tokens:\n",
    "        if token in freqTable.index:\n",
    "            featureVector[1] += freqTable.at[token,'positive_freq']\n",
    "            featureVector[2] += freqTable.at[token,'negative_freq']\n",
    "        #else:\n",
    "        #    #print(f'warning! {token} not found')\n",
    "    return featureVector\n",
    "\n",
    "train['features'] = train['preprocessed_review'].apply(lambda tokens: calculateFeatureVector(tokens,word_freq_table))\n",
    "train.head()"
   ]
  },
  {
   "cell_type": "code",
   "execution_count": 52,
   "id": "3ea96ab7-d4d2-4c74-82c7-8f9ba4449c24",
   "metadata": {},
   "outputs": [
    {
     "data": {
      "text/plain": [
       "<AxesSubplot:>"
      ]
     },
     "execution_count": 52,
     "metadata": {},
     "output_type": "execute_result"
    },
    {
     "data": {
      "image/png": "[encoded data removed]",
      "text/plain": [
       "<Figure size 640x480 with 1 Axes>"
      ]
     },
     "metadata": {},
     "output_type": "display_data"
    }
   ],
   "source": [
    "pos_vis_data = np.stack(train[train['Sentiment']==1]['features'])[:,1:]\n",
    "neg_vis_data = np.stack(train[train['Sentiment']==0]['features'])[:,1:]\n",
    "seaborn.scatterplot(x=pos_vis_data[:,0],y=pos_vis_data[:,1],marker='+')\n",
    "seaborn.scatterplot(x=neg_vis_data[:,0],y=neg_vis_data[:,1],marker='x')"
   ]
  },
  {
   "cell_type": "code",
   "execution_count": 49,
   "id": "178b95b1-c042-4ef0-9161-24973c24fdbf",
   "metadata": {},
   "outputs": [],
   "source": [
    "# Normalization\n",
    "def normalizer(featureVector, dimensionalMaxes):\n",
    "    for dimension in range(len(featureVector)):\n",
    "        featureVector[dimension] = featureVector[dimension]/dimensionalMaxes[dimension]\n",
    "    return featureVector\n",
    "\n",
    "maxes = np.stack(train['features']).max(axis=0)\n",
    "train['features'] = train['features'].apply(lambda features: normalizer(features,maxes))"
   ]
  },
  {
   "cell_type": "markdown",
   "id": "e3c2118d-ea61-43c8-a11a-904d5cb53b03",
   "metadata": {},
   "source": [
    "# Train a model"
   ]
  },
  {
   "cell_type": "code",
   "execution_count": 61,
   "id": "a83464ba",
   "metadata": {},
   "outputs": [
    {
     "data": {
      "text/html": [
       "<style>#sk-container-id-2 {color: black;}#sk-container-id-2 pre{padding: 0;}#sk-container-id-2 div.sk-toggleable {background-color: white;}#sk-container-id-2 label.sk-toggleable__label {cursor: pointer;display: block;width: 100%;margin-bottom: 0;padding: 0.3em;box-sizing: border-box;text-align: center;}#sk-container-id-2 label.sk-toggleable__label-arrow:before {content: \"▸\";float: left;margin-right: 0.25em;color: #696969;}#sk-container-id-2 label.sk-toggleable__label-arrow:hover:before {color: black;}#sk-container-id-2 div.sk-estimator:hover label.sk-toggleable__label-arrow:before {color: black;}#sk-container-id-2 div.sk-toggleable__content {max-height: 0;max-width: 0;overflow: hidden;text-align: left;background-color: #f0f8ff;}#sk-container-id-2 div.sk-toggleable__content pre {margin: 0.2em;color: black;border-radius: 0.25em;background-color: #f0f8ff;}#sk-container-id-2 input.sk-toggleable__control:checked~div.sk-toggleable__content {max-height: 200px;max-width: 100%;overflow: auto;}#sk-container-id-2 input.sk-toggleable__control:checked~label.sk-toggleable__label-arrow:before {content: \"▾\";}#sk-container-id-2 div.sk-estimator input.sk-toggleable__control:checked~label.sk-toggleable__label {background-color: #d4ebff;}#sk-container-id-2 div.sk-label input.sk-toggleable__control:checked~label.sk-toggleable__label {background-color: #d4ebff;}#sk-container-id-2 input.sk-hidden--visually {border: 0;clip: rect(1px 1px 1px 1px);clip: rect(1px, 1px, 1px, 1px);height: 1px;margin: -1px;overflow: hidden;padding: 0;position: absolute;width: 1px;}#sk-container-id-2 div.sk-estimator {font-family: monospace;background-color: #f0f8ff;border: 1px dotted black;border-radius: 0.25em;box-sizing: border-box;margin-bottom: 0.5em;}#sk-container-id-2 div.sk-estimator:hover {background-color: #d4ebff;}#sk-container-id-2 div.sk-parallel-item::after {content: \"\";width: 100%;border-bottom: 1px solid gray;flex-grow: 1;}#sk-container-id-2 div.sk-label:hover label.sk-toggleable__label {background-color: #d4ebff;}#sk-container-id-2 div.sk-serial::before {content: \"\";position: absolute;border-left: 1px solid gray;box-sizing: border-box;top: 0;bottom: 0;left: 50%;z-index: 0;}#sk-container-id-2 div.sk-serial {display: flex;flex-direction: column;align-items: center;background-color: white;padding-right: 0.2em;padding-left: 0.2em;position: relative;}#sk-container-id-2 div.sk-item {position: relative;z-index: 1;}#sk-container-id-2 div.sk-parallel {display: flex;align-items: stretch;justify-content: center;background-color: white;position: relative;}#sk-container-id-2 div.sk-item::before, #sk-container-id-2 div.sk-parallel-item::before {content: \"\";position: absolute;border-left: 1px solid gray;box-sizing: border-box;top: 0;bottom: 0;left: 50%;z-index: -1;}#sk-container-id-2 div.sk-parallel-item {display: flex;flex-direction: column;z-index: 1;position: relative;background-color: white;}#sk-container-id-2 div.sk-parallel-item:first-child::after {align-self: flex-end;width: 50%;}#sk-container-id-2 div.sk-parallel-item:last-child::after {align-self: flex-start;width: 50%;}#sk-container-id-2 div.sk-parallel-item:only-child::after {width: 0;}#sk-container-id-2 div.sk-dashed-wrapped {border: 1px dashed gray;margin: 0 0.4em 0.5em 0.4em;box-sizing: border-box;padding-bottom: 0.4em;background-color: white;}#sk-container-id-2 div.sk-label label {font-family: monospace;font-weight: bold;display: inline-block;line-height: 1.2em;}#sk-container-id-2 div.sk-label-container {text-align: center;}#sk-container-id-2 div.sk-container {/* jupyter's `normalize.less` sets `[hidden] { display: none; }` but bootstrap.min.css set `[hidden] { display: none !important; }` so we also need the `!important` here to be able to override the default hidden behavior on the sphinx rendered scikit-learn.org. See: https://github.com/scikit-learn/scikit-learn/issues/21755 */display: inline-block !important;position: relative;}#sk-container-id-2 div.sk-text-repr-fallback {display: none;}</style><div id=\"sk-container-id-2\" class=\"sk-top-container\"><div class=\"sk-text-repr-fallback\"><pre>LogisticRegression(random_state=2048)</pre><b>In a Jupyter environment, please rerun this cell to show the HTML representation or trust the notebook. <br />On GitHub, the HTML representation is unable to render, please try loading this page with nbviewer.org.</b></div><div class=\"sk-container\" hidden><div class=\"sk-item\"><div class=\"sk-estimator sk-toggleable\"><input class=\"sk-toggleable__control sk-hidden--visually\" id=\"sk-estimator-id-2\" type=\"checkbox\" checked><label for=\"sk-estimator-id-2\" class=\"sk-toggleable__label sk-toggleable__label-arrow\">LogisticRegression</label><div class=\"sk-toggleable__content\"><pre>LogisticRegression(random_state=2048)</pre></div></div></div></div></div>"
      ],
      "text/plain": [
       "LogisticRegression(random_state=2048)"
      ]
     },
     "execution_count": 61,
     "metadata": {},
     "output_type": "execute_result"
    }
   ],
   "source": [
    "# Train Model\n",
    "classifier = LogisticRegression(random_state=2048)\n",
    "predictors_train = np.stack(train['features'])\n",
    "labels_train = np.stack(train['Sentiment'])\n",
    "classifier.fit(predictors_train,labels_train)"
   ]
  },
  {
   "cell_type": "code",
   "execution_count": 71,
   "id": "8ca85a3e",
   "metadata": {},
   "outputs": [
    {
     "name": "stdout",
     "output_type": "stream",
     "text": [
      "              precision    recall  f1-score   support\n",
      "\n",
      "           0       0.80      0.77      0.78      9987\n",
      "           1       0.83      0.85      0.84     12869\n",
      "\n",
      "    accuracy                           0.81     22856\n",
      "   macro avg       0.81      0.81      0.81     22856\n",
      "weighted avg       0.81      0.81      0.81     22856\n",
      "\n"
     ]
    }
   ],
   "source": [
    "# Training results\n",
    "preds_train = classifier.predict(predictors_train)\n",
    "print(classification_report(labels_train, preds_train))"
   ]
  },
  {
   "cell_type": "code",
   "execution_count": 77,
   "id": "0fae23bc",
   "metadata": {},
   "outputs": [
    {
     "name": "stdout",
     "output_type": "stream",
     "text": [
      "              precision    recall  f1-score   support\n",
      "\n",
      "           0       0.80      0.77      0.78      2528\n",
      "           1       0.82      0.85      0.83      3187\n",
      "\n",
      "    accuracy                           0.81      5715\n",
      "   macro avg       0.81      0.81      0.81      5715\n",
      "weighted avg       0.81      0.81      0.81      5715\n",
      "\n"
     ]
    }
   ],
   "source": [
    "# Validation\n",
    "test['features'] = test['preprocessed_review'].apply(lambda tokens: calculateFeatureVector(tokens,word_freq_table))\n",
    "predictors_test = np.stack(test['features'])\n",
    "labels_test = np.stack(test['Sentiment'])\n",
    "preds_test = classifier.predict(predictors_test)\n",
    "print(classification_report(labels_test, preds_test))"
   ]
  },
  {
   "cell_type": "code",
   "execution_count": null,
   "id": "8515fcea-8b14-4226-bb8f-a9cf3ab4af5c",
   "metadata": {},
   "outputs": [],
   "source": []
  }
 ],
 "metadata": {
  "kernelspec": {
   "display_name": "Python 3 (ipykernel)",
   "language": "python",
   "name": "python3"
  },
  "language_info": {
   "codemirror_mode": {
    "name": "ipython",
    "version": 3
   },
   "file_extension": ".py",
   "mimetype": "text/x-python",
   "name": "python",
   "nbconvert_exporter": "python",
   "pygments_lexer": "ipython3",
   "version": "3.8.17"
  }
 },
 "nbformat": 4,
 "nbformat_minor": 5
}
