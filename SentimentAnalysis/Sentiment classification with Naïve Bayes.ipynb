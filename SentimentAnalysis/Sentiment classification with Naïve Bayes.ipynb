{
 "cells": [
  {
   "cell_type": "code",
   "execution_count": 1,
   "id": "8a9fc0c2-d1f9-4dcf-beab-703a6c92e580",
   "metadata": {},
   "outputs": [],
   "source": [
    "# just some imports to be used later\n",
    "import os\n",
    "from zipfile import ZipFile\n",
    "\n",
    "import numpy as np\n",
    "import seaborn\n",
    "import pandas as pd\n",
    "import math\n",
    "\n",
    "import nltk\n",
    "from sklearn.model_selection import train_test_split\n",
    "#from sklearn.naive_bayes import MultinomialNB\n",
    "from sklearn.metrics import classification_report"
   ]
  },
  {
   "cell_type": "markdown",
   "id": "6edf1d24-3368-4873-81b7-b81113cd35eb",
   "metadata": {},
   "source": [
    "# The Dataset"
   ]
  },
  {
   "cell_type": "code",
   "execution_count": 2,
   "id": "c29ce78f-d0ab-4211-a881-6c9556127371",
   "metadata": {},
   "outputs": [
    {
     "name": "stdout",
     "output_type": "stream",
     "text": [
      "Downloading mcdonalds-store-reviews.zip to D:\\Work\\Learning\\NaturalLanguage\\SentimentAnalysis\n",
      "\n"
     ]
    },
    {
     "name": "stderr",
     "output_type": "stream",
     "text": [
      "\n",
      "  0%|          | 0.00/1.78M [00:00<?, ?B/s]\n",
      " 56%|#####6    | 1.00M/1.78M [00:00<00:00, 4.33MB/s]\n",
      "100%|##########| 1.78M/1.78M [00:00<00:00, 4.46MB/s]\n",
      "100%|##########| 1.78M/1.78M [00:00<00:00, 4.43MB/s]\n"
     ]
    }
   ],
   "source": [
    "# Get dataset\n",
    "!kaggle datasets download \"nelgiriyewithana/mcdonalds-store-reviews\""
   ]
  },
  {
   "cell_type": "code",
   "execution_count": 3,
   "id": "0ce537c9-9c69-41a3-bec0-afb8a9b8a5be",
   "metadata": {},
   "outputs": [],
   "source": [
    "# Extract dataset\n",
    "with ZipFile('mcdonalds-store-reviews.zip','r') as zipped_file:\n",
    "    zipped_file.extractall()\n",
    "\n",
    "# Delete the zipfile\n",
    "os.remove('mcdonalds-store-reviews.zip')"
   ]
  },
  {
   "cell_type": "code",
   "execution_count": 4,
   "id": "2ebc6d02-e6e9-4f9c-b2b4-2f53a5e9a2e6",
   "metadata": {},
   "outputs": [
    {
     "data": {
      "text/html": [
       "<div>\n",
       "<style scoped>\n",
       "    .dataframe tbody tr th:only-of-type {\n",
       "        vertical-align: middle;\n",
       "    }\n",
       "\n",
       "    .dataframe tbody tr th {\n",
       "        vertical-align: top;\n",
       "    }\n",
       "\n",
       "    .dataframe thead th {\n",
       "        text-align: right;\n",
       "    }\n",
       "</style>\n",
       "<table border=\"1\" class=\"dataframe\">\n",
       "  <thead>\n",
       "    <tr style=\"text-align: right;\">\n",
       "      <th></th>\n",
       "      <th>review</th>\n",
       "      <th>rating</th>\n",
       "    </tr>\n",
       "  </thead>\n",
       "  <tbody>\n",
       "    <tr>\n",
       "      <th>0</th>\n",
       "      <td>Why does it look like someone spit on my food?...</td>\n",
       "      <td>1</td>\n",
       "    </tr>\n",
       "    <tr>\n",
       "      <th>1</th>\n",
       "      <td>It'd McDonalds. It is what it is as far as the...</td>\n",
       "      <td>4</td>\n",
       "    </tr>\n",
       "    <tr>\n",
       "      <th>2</th>\n",
       "      <td>Made a mobile order got to the speaker and che...</td>\n",
       "      <td>1</td>\n",
       "    </tr>\n",
       "    <tr>\n",
       "      <th>3</th>\n",
       "      <td>My mc. Crispy chicken sandwich was �����������...</td>\n",
       "      <td>5</td>\n",
       "    </tr>\n",
       "    <tr>\n",
       "      <th>4</th>\n",
       "      <td>I repeat my order 3 times in the drive thru, a...</td>\n",
       "      <td>1</td>\n",
       "    </tr>\n",
       "  </tbody>\n",
       "</table>\n",
       "</div>"
      ],
      "text/plain": [
       "                                              review  rating\n",
       "0  Why does it look like someone spit on my food?...       1\n",
       "1  It'd McDonalds. It is what it is as far as the...       4\n",
       "2  Made a mobile order got to the speaker and che...       1\n",
       "3  My mc. Crispy chicken sandwich was �����������...       5\n",
       "4  I repeat my order 3 times in the drive thru, a...       1"
      ]
     },
     "execution_count": 4,
     "metadata": {},
     "output_type": "execute_result"
    }
   ],
   "source": [
    "# Read Dataset\n",
    "dataset = pd.read_csv('McDonald_s_Reviews.csv',encoding_errors='ignore')\n",
    "\n",
    "#drop columns\n",
    "dataset = dataset[['review','rating']].copy()\n",
    "\n",
    "# change star ratings to integer\n",
    "dataset['rating'] = dataset['rating'].apply(lambda x: int(x.split()[0]))\n",
    "dataset.head()"
   ]
  },
  {
   "cell_type": "code",
   "execution_count": 5,
   "id": "795e255a-7253-4437-884f-71fa2cb26b9d",
   "metadata": {},
   "outputs": [
    {
     "data": {
      "text/html": [
       "<div>\n",
       "<style scoped>\n",
       "    .dataframe tbody tr th:only-of-type {\n",
       "        vertical-align: middle;\n",
       "    }\n",
       "\n",
       "    .dataframe tbody tr th {\n",
       "        vertical-align: top;\n",
       "    }\n",
       "\n",
       "    .dataframe thead th {\n",
       "        text-align: right;\n",
       "    }\n",
       "</style>\n",
       "<table border=\"1\" class=\"dataframe\">\n",
       "  <thead>\n",
       "    <tr style=\"text-align: right;\">\n",
       "      <th></th>\n",
       "      <th>review</th>\n",
       "      <th>Sentiment</th>\n",
       "    </tr>\n",
       "  </thead>\n",
       "  <tbody>\n",
       "    <tr>\n",
       "      <th>0</th>\n",
       "      <td>Why does it look like someone spit on my food?...</td>\n",
       "      <td>0</td>\n",
       "    </tr>\n",
       "    <tr>\n",
       "      <th>1</th>\n",
       "      <td>It'd McDonalds. It is what it is as far as the...</td>\n",
       "      <td>1</td>\n",
       "    </tr>\n",
       "    <tr>\n",
       "      <th>2</th>\n",
       "      <td>Made a mobile order got to the speaker and che...</td>\n",
       "      <td>0</td>\n",
       "    </tr>\n",
       "    <tr>\n",
       "      <th>3</th>\n",
       "      <td>My mc. Crispy chicken sandwich was �����������...</td>\n",
       "      <td>1</td>\n",
       "    </tr>\n",
       "    <tr>\n",
       "      <th>4</th>\n",
       "      <td>I repeat my order 3 times in the drive thru, a...</td>\n",
       "      <td>0</td>\n",
       "    </tr>\n",
       "  </tbody>\n",
       "</table>\n",
       "</div>"
      ],
      "text/plain": [
       "                                              review  Sentiment\n",
       "0  Why does it look like someone spit on my food?...          0\n",
       "1  It'd McDonalds. It is what it is as far as the...          1\n",
       "2  Made a mobile order got to the speaker and che...          0\n",
       "3  My mc. Crispy chicken sandwich was �����������...          1\n",
       "4  I repeat my order 3 times in the drive thru, a...          0"
      ]
     },
     "execution_count": 5,
     "metadata": {},
     "output_type": "execute_result"
    }
   ],
   "source": [
    "# drop ratings with no reviews\n",
    "no_rev = list(dataset.index[dataset['review'].isna()])\n",
    "dataset = dataset.drop(no_rev)\n",
    "\n",
    "# drop neutral 3 star reviews\n",
    "ratings_3star = list(dataset.index[dataset['rating']==3])\n",
    "dataset = dataset.drop(ratings_3star)\n",
    "\n",
    "#chnage rating to label, 1: positive and 0:negative\n",
    "dataset['Sentiment'] = dataset['rating'].apply(lambda x: 1 if x>3 else 0)\n",
    "dataset = dataset[['review','Sentiment']].copy()\n",
    "dataset.head()"
   ]
  },
  {
   "cell_type": "markdown",
   "id": "28c0bcf2-87c5-492a-b2ab-37cfd696e756",
   "metadata": {},
   "source": [
    "# Data Preprocessing"
   ]
  },
  {
   "cell_type": "code",
   "execution_count": 6,
   "id": "ce0a7501-60eb-42d7-8d7a-cf080c2aef6e",
   "metadata": {},
   "outputs": [],
   "source": [
    "def preprocessing(ipString,tokenizer,stopwords,lemmatizer):\n",
    "    #preprocessing\n",
    "    op = ipString.lower()\n",
    "    op = tokenizer.tokenize(op)\n",
    "    op = [token for token in op if token not in stopwords]\n",
    "    op = [lemmatizer.lemmatize(token) for token in op]\n",
    "    return op"
   ]
  },
  {
   "cell_type": "code",
   "execution_count": 7,
   "id": "596ba80e-837a-472f-a47d-3619755b98f1",
   "metadata": {},
   "outputs": [
    {
     "data": {
      "text/html": [
       "<div>\n",
       "<style scoped>\n",
       "    .dataframe tbody tr th:only-of-type {\n",
       "        vertical-align: middle;\n",
       "    }\n",
       "\n",
       "    .dataframe tbody tr th {\n",
       "        vertical-align: top;\n",
       "    }\n",
       "\n",
       "    .dataframe thead th {\n",
       "        text-align: right;\n",
       "    }\n",
       "</style>\n",
       "<table border=\"1\" class=\"dataframe\">\n",
       "  <thead>\n",
       "    <tr style=\"text-align: right;\">\n",
       "      <th></th>\n",
       "      <th>review</th>\n",
       "      <th>Sentiment</th>\n",
       "    </tr>\n",
       "  </thead>\n",
       "  <tbody>\n",
       "    <tr>\n",
       "      <th>0</th>\n",
       "      <td>[look, like, someone, spit, food, ?, normal, t...</td>\n",
       "      <td>0</td>\n",
       "    </tr>\n",
       "    <tr>\n",
       "      <th>1</th>\n",
       "      <td>[', mcdonalds, ., far, food, atmosphere, go, ....</td>\n",
       "      <td>1</td>\n",
       "    </tr>\n",
       "    <tr>\n",
       "      <th>2</th>\n",
       "      <td>[made, mobile, order, got, speaker, checked, ....</td>\n",
       "      <td>0</td>\n",
       "    </tr>\n",
       "    <tr>\n",
       "      <th>3</th>\n",
       "      <td>[mc, ., crispy, chicken, sandwich, �����������...</td>\n",
       "      <td>1</td>\n",
       "    </tr>\n",
       "    <tr>\n",
       "      <th>4</th>\n",
       "      <td>[repeat, order, 3, time, drive, thru, ,, still...</td>\n",
       "      <td>0</td>\n",
       "    </tr>\n",
       "  </tbody>\n",
       "</table>\n",
       "</div>"
      ],
      "text/plain": [
       "                                              review  Sentiment\n",
       "0  [look, like, someone, spit, food, ?, normal, t...          0\n",
       "1  [', mcdonalds, ., far, food, atmosphere, go, ....          1\n",
       "2  [made, mobile, order, got, speaker, checked, ....          0\n",
       "3  [mc, ., crispy, chicken, sandwich, �����������...          1\n",
       "4  [repeat, order, 3, time, drive, thru, ,, still...          0"
      ]
     },
     "execution_count": 7,
     "metadata": {},
     "output_type": "execute_result"
    }
   ],
   "source": [
    "tokenizer = nltk.tokenize.WordPunctTokenizer()\n",
    "stopwords = nltk.corpus.stopwords.words('english')\n",
    "lemmatizer = nltk.stem.WordNetLemmatizer()\n",
    "\n",
    "dataset['review'] = dataset['review'].apply(lambda review: preprocessing(review, tokenizer, stopwords, lemmatizer))\n",
    "dataset.head()"
   ]
  },
  {
   "cell_type": "markdown",
   "id": "2ec5be05-5bfd-48da-8a6a-65ea2ddc63fc",
   "metadata": {},
   "source": [
    "# Calculating probabilities"
   ]
  },
  {
   "cell_type": "code",
   "execution_count": 8,
   "id": "397b6ba2-7c43-4d45-a4bd-2127f4d555b0",
   "metadata": {},
   "outputs": [],
   "source": [
    "# Should only use training data to generate learning features\n",
    "train, test = train_test_split(dataset, test_size=0.3, random_state=64)"
   ]
  },
  {
   "cell_type": "code",
   "execution_count": 9,
   "id": "12be8476-6f59-4cc2-9712-e6ba9537975b",
   "metadata": {},
   "outputs": [],
   "source": [
    "# find occurence of word in positive and negative sentences\n",
    "def generateWordFreqTable(dataset):\n",
    "    # init freq table\n",
    "    distinctWords = []\n",
    "    for review in dataset['review']:\n",
    "        distinctWords.extend(review)\n",
    "    distinctWords = list(set(distinctWords))\n",
    "    initFreq = [0]*len(distinctWords)\n",
    "    wordFreqTable = pd.DataFrame({'positiveFreq':initFreq,'negativeFreq':initFreq},index=distinctWords)\n",
    "    \n",
    "    # positive frequencies\n",
    "    positiveRevs = dataset[dataset['Sentiment']==1]\n",
    "    for rev in positiveRevs['review']:\n",
    "        for token in set(rev):\n",
    "            wordFreqTable.at[token,'positiveFreq'] = wordFreqTable.at[token,'positiveFreq'] +1\n",
    "    \n",
    "    #negative frequency\n",
    "    negativeRevs = dataset[dataset['Sentiment']==0]\n",
    "    for rev in negativeRevs['review']:\n",
    "        for token in set(rev):\n",
    "            wordFreqTable.at[token,'negativeFreq'] = wordFreqTable.at[token,'negativeFreq'] +1\n",
    "    return wordFreqTable"
   ]
  },
  {
   "cell_type": "code",
   "execution_count": 10,
   "id": "5b28b770-cbc5-4da1-a464-3cf42f44c64f",
   "metadata": {},
   "outputs": [],
   "source": [
    "# Calculate conditional probabilities\n",
    "def generateWordProbTable(listeDeTokens):\n",
    "    wordFreqTable = generateWordFreqTable(listeDeTokens)\n",
    "    # origninal without smoothening, but has issue\n",
    "    #wordFreqTable['positiveProb'] = wordFreqTable['positiveFreq']/wordFreqTable.positiveFreq.sum()\n",
    "    #wordFreqTable['negativeProb'] = wordFreqTable['negativeFreq']/wordFreqTable.negativeFreq.sum()\n",
    "    \n",
    "    # With laplace smoothening\n",
    "    wordFreqTable['positiveProb'] = (wordFreqTable['positiveFreq']+1)  / (wordFreqTable.positiveFreq.sum()+len(wordProbTable.index)) \n",
    "    wordFreqTable['negativeProb'] = (wordFreqTable['negativeFreq']+1) / (wordFreqTable.negativeFreq.sum()+len(wordProbTable.index))\n",
    "    #print(wordFreqTable.positiveFreq.sum(),wordFreqTable.count())\n",
    "    return wordFreqTable"
   ]
  },
  {
   "cell_type": "code",
   "execution_count": 11,
   "id": "8bb06ef0-41af-44e3-8cfb-d85b00d0522e",
   "metadata": {},
   "outputs": [
    {
     "data": {
      "text/html": [
       "<div>\n",
       "<style scoped>\n",
       "    .dataframe tbody tr th:only-of-type {\n",
       "        vertical-align: middle;\n",
       "    }\n",
       "\n",
       "    .dataframe tbody tr th {\n",
       "        vertical-align: top;\n",
       "    }\n",
       "\n",
       "    .dataframe thead th {\n",
       "        text-align: right;\n",
       "    }\n",
       "</style>\n",
       "<table border=\"1\" class=\"dataframe\">\n",
       "  <thead>\n",
       "    <tr style=\"text-align: right;\">\n",
       "      <th></th>\n",
       "      <th>positiveFreq</th>\n",
       "      <th>negativeFreq</th>\n",
       "      <th>positiveProb</th>\n",
       "      <th>negativeProb</th>\n",
       "    </tr>\n",
       "  </thead>\n",
       "  <tbody>\n",
       "    <tr>\n",
       "      <th>fur</th>\n",
       "      <td>1</td>\n",
       "      <td>0</td>\n",
       "      <td>0.000020</td>\n",
       "      <td>0.000006</td>\n",
       "    </tr>\n",
       "    <tr>\n",
       "      <th>easy</th>\n",
       "      <td>112</td>\n",
       "      <td>9</td>\n",
       "      <td>0.001102</td>\n",
       "      <td>0.000059</td>\n",
       "    </tr>\n",
       "    <tr>\n",
       "      <th>dios</th>\n",
       "      <td>0</td>\n",
       "      <td>1</td>\n",
       "      <td>0.000010</td>\n",
       "      <td>0.000012</td>\n",
       "    </tr>\n",
       "    <tr>\n",
       "      <th>cheesesteaks</th>\n",
       "      <td>0</td>\n",
       "      <td>2</td>\n",
       "      <td>0.000010</td>\n",
       "      <td>0.000018</td>\n",
       "    </tr>\n",
       "    <tr>\n",
       "      <th>spouting</th>\n",
       "      <td>0</td>\n",
       "      <td>1</td>\n",
       "      <td>0.000010</td>\n",
       "      <td>0.000012</td>\n",
       "    </tr>\n",
       "  </tbody>\n",
       "</table>\n",
       "</div>"
      ],
      "text/plain": [
       "              positiveFreq  negativeFreq  positiveProb  negativeProb\n",
       "fur                      1             0      0.000020      0.000006\n",
       "easy                   112             9      0.001102      0.000059\n",
       "dios                     0             1      0.000010      0.000012\n",
       "cheesesteaks             0             2      0.000010      0.000018\n",
       "spouting                 0             1      0.000010      0.000012"
      ]
     },
     "execution_count": 11,
     "metadata": {},
     "output_type": "execute_result"
    }
   ],
   "source": [
    "if not os.path.exists('./McDonald_s_Reviews_probtbl.csv'):\n",
    "    wordProbTable = generateWordProbTable(train)\n",
    "    wordProbTable.to_csv('./McDonald_s_Reviews_probtbl.csv')\n",
    "else:\n",
    "    wordProbTable = pd.read_csv('./McDonald_s_Reviews_probtbl.csv',index_col=0)\n",
    "wordProbTable.head()"
   ]
  },
  {
   "cell_type": "markdown",
   "id": "d6c8a797-9950-43c6-8c8b-e85a98585968",
   "metadata": {},
   "source": [
    "# Classification using conditional probabilities"
   ]
  },
  {
   "cell_type": "code",
   "execution_count": 12,
   "id": "a3cc705c-c3e2-4e97-802e-bfa07139339e",
   "metadata": {},
   "outputs": [],
   "source": [
    "def predict(tokens,wordProbTable):\n",
    "    loglikelihood = math.log(wordProbTable.positiveFreq.sum()/wordProbTable.negativeFreq.sum())\n",
    "    for token in tokens:\n",
    "        if token in wordProbTable.index:\n",
    "            loglikelihood += math.log(wordProbTable.at[token,'positiveProb']/wordProbTable.at[token,'negativeProb'])\n",
    "    return 1 if loglikelihood>0 else 0"
   ]
  },
  {
   "cell_type": "markdown",
   "id": "980e5c33-a6ed-4448-83ea-7ba59893e2d0",
   "metadata": {},
   "source": [
    "Results on training set."
   ]
  },
  {
   "cell_type": "code",
   "execution_count": 13,
   "id": "1d785dd7-d53c-4de0-b538-048f84e83e2c",
   "metadata": {},
   "outputs": [
    {
     "name": "stdout",
     "output_type": "stream",
     "text": [
      "              precision    recall  f1-score   support\n",
      "\n",
      "           0       0.89      0.93      0.91      8760\n",
      "           1       0.94      0.91      0.92     11239\n",
      "\n",
      "    accuracy                           0.92     19999\n",
      "   macro avg       0.91      0.92      0.92     19999\n",
      "weighted avg       0.92      0.92      0.92     19999\n",
      "\n"
     ]
    }
   ],
   "source": [
    "preds_train = train['review'].apply(lambda rev: predict(rev,wordProbTable))\n",
    "print(classification_report(train['Sentiment'],preds_train))"
   ]
  },
  {
   "cell_type": "markdown",
   "id": "3794776a-41a9-4d81-806c-2482673f8f98",
   "metadata": {},
   "source": [
    "Results on test set."
   ]
  },
  {
   "cell_type": "code",
   "execution_count": 14,
   "id": "0604da7e-d5e5-48e8-93b2-d53509568484",
   "metadata": {},
   "outputs": [
    {
     "name": "stdout",
     "output_type": "stream",
     "text": [
      "              precision    recall  f1-score   support\n",
      "\n",
      "           0       0.86      0.91      0.88      3755\n",
      "           1       0.93      0.88      0.90      4817\n",
      "\n",
      "    accuracy                           0.89      8572\n",
      "   macro avg       0.89      0.90      0.89      8572\n",
      "weighted avg       0.90      0.89      0.90      8572\n",
      "\n"
     ]
    }
   ],
   "source": [
    "preds_test = test['review'].apply(lambda rev: predict(rev,wordProbTable))\n",
    "print(classification_report(test['Sentiment'],preds_test))"
   ]
  },
  {
   "cell_type": "markdown",
   "id": "9bd4a550-3906-4616-b13c-538553ae30b5",
   "metadata": {},
   "source": [
    "# Inference"
   ]
  },
  {
   "cell_type": "code",
   "execution_count": 19,
   "id": "1fd0a7f5-94d7-487f-9d0a-91cadc7c55ee",
   "metadata": {},
   "outputs": [
    {
     "data": {
      "text/plain": [
       "[0, 1]"
      ]
     },
     "execution_count": 19,
     "metadata": {},
     "output_type": "execute_result"
    }
   ],
   "source": [
    "inferenceStrings = ['I hated the food here, it is so bad that I will never come back.', 'It is so good, i go there every week.']\n",
    "preprocessedinferenceStrings = [preprocessing(inferenceString,tokenizer,stopwords,lemmatizer) for inferenceString in inferenceStrings]\n",
    "[predict(preprocessedinferenceString,wordProbTable) for preprocessedinferenceString in preprocessedinferenceStrings]"
   ]
  }
 ],
 "metadata": {
  "kernelspec": {
   "display_name": "Python 3 (ipykernel)",
   "language": "python",
   "name": "python3"
  },
  "language_info": {
   "codemirror_mode": {
    "name": "ipython",
    "version": 3
   },
   "file_extension": ".py",
   "mimetype": "text/x-python",
   "name": "python",
   "nbconvert_exporter": "python",
   "pygments_lexer": "ipython3",
   "version": "3.8.17"
  }
 },
 "nbformat": 4,
 "nbformat_minor": 5
}
